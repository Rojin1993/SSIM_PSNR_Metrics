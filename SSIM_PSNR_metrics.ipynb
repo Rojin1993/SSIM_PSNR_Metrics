{
  "nbformat": 4,
  "nbformat_minor": 0,
  "metadata": {
    "colab": {
      "provenance": []
    },
    "kernelspec": {
      "name": "python3",
      "display_name": "Python 3"
    },
    "language_info": {
      "name": "python"
    }
  },
  "cells": [
    {
      "cell_type": "code",
      "execution_count": null,
      "metadata": {
        "id": "Mqtyoht1kePG"
      },
      "outputs": [],
      "source": [
        "from skimage import io\n",
        "from skimage.metrics import structural_similarity as ssim\n",
        "from skimage.metrics import peak_signal_noise_ratio as psnr\n",
        "import gdown\n",
        "\n",
        "# Function to download images from Google Drive\n",
        "def download_file_from_google_drive(file_url, destination):\n",
        "    gdown.download(file_url, destination, quiet=False)\n",
        "\n",
        "\n",
        "# Download two example images from Google Drive in these files(replace with new shareable links)\n",
        "image1_path = 'S.jpeg'\n",
        "image2_path = 'T.jpeg'\n",
        "\n",
        "# Update the URLs with the new shareable links\n",
        "download_file_from_google_drive('shareble link of the image_1 in google drive', image1_path)\n",
        "download_file_from_google_drive('shareble link of the image_2 in google drive', image2_path)\n",
        "\n",
        "# Load the first image using skimage\n",
        "image1 = io.imread(image1_path)\n",
        "\n",
        "# Load the second image using skimage\n",
        "image2 = io.imread(image2_path)\n",
        "\n",
        "# Convert to numpy arrays for SSIM and PSNR calculation\n",
        "image1_np = image1[:, :, 0]  # Assuming grayscale images\n",
        "image2_np = image2[:, :, 0]  # Assuming grayscale images\n",
        "\n",
        "# Calculate SSIM using scikit-image with a smaller win_size\n",
        "ssim_value, _ = ssim(image1_np, image2_np, win_size=11, full=True)\n",
        "\n",
        "# Calculate PSNR\n",
        "psnr_value = psnr(image1_np, image2_np, data_range=image1_np.max() - image1_np.min())\n",
        "\n",
        "print(f\"SSIM between the two images: {ssim_value}\")\n",
        "print(f\"PSNR between the two images: {psnr_value}\")"
      ]
    }
  ]
}