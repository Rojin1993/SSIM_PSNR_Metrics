{
  "nbformat": 4,
  "nbformat_minor": 0,
  "metadata": {
    "colab": {
      "provenance": []
    },
    "kernelspec": {
      "name": "python3",
      "display_name": "Python 3"
    },
    "language_info": {
      "name": "python"
    }
  },
  "cells": [
    {
      "cell_type": "code",
      "source": [
        "from google.colab import files\n",
        "\n",
        "# Upload an image file\n",
        "uploaded = files.upload()\n",
        "\n",
        "# Display the uploaded file names\n",
        "for filename in uploaded.keys():\n",
        "    print(f'Uploaded file: {filename}')"
      ],
      "metadata": {
        "id": "Lk732guxkgdc"
      },
      "execution_count": null,
      "outputs": []
    },
    {
      "cell_type": "code",
      "source": [
        "from google.colab import files\n",
        "\n",
        "# Upload an image file\n",
        "uploaded = files.upload()\n",
        "\n",
        "# Display the uploaded file names\n",
        "for filename in uploaded.keys():\n",
        "    print(f'Uploaded file: {filename}')"
      ],
      "metadata": {
        "id": "njEbCa4SlDs6"
      },
      "execution_count": null,
      "outputs": []
    },
    {
      "cell_type": "code",
      "source": [
        "from skimage import io\n",
        "from skimage.metrics import structural_similarity as ssim\n",
        "from skimage.metrics import peak_signal_noise_ratio as psnr\n",
        "\n",
        "# Function to calculate SSIM and PSNR\n",
        "def calculate_metrics(image1_path, image2_path):\n",
        "    # Load the first image using skimage\n",
        "    image1 = io.imread(image1_path)\n",
        "\n",
        "    # Load the second image using skimage\n",
        "    image2 = io.imread(image2_path)\n",
        "\n",
        "    # Convert to numpy arrays for SSIM and PSNR calculation\n",
        "    image1_np = image1[:, :, 0]  # Assuming grayscale images\n",
        "    image2_np = image2[:, :, 0]  # Assuming grayscale images\n",
        "\n",
        "    # Calculate SSIM using scikit-image\n",
        "    ssim_value, _ = ssim(image1_np, image2_np, full=True)\n",
        "\n",
        "    # Calculate PSNR\n",
        "    psnr_value = psnr(image1_np, image2_np, data_range=image1_np.max() - image1_np.min())\n",
        "\n",
        "    return ssim_value, psnr_value\n",
        "\n",
        "# Example usage:\n",
        "image1_path = 'HR.jpg'\n",
        "image2_path = 'SR.jpg'\n",
        "\n",
        "ssim_value, psnr_value = calculate_metrics(image1_path, image2_path)\n",
        "\n",
        "print(f\"SSIM between the two images: {ssim_value}\")\n",
        "print(f\"PSNR between the two images: {psnr_value}\")"
      ],
      "metadata": {
        "id": "8JQcSO21lL7C"
      },
      "execution_count": null,
      "outputs": []
    }
  ]
}